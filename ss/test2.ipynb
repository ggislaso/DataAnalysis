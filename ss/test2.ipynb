{
 "cells": [
  {
   "cell_type": "code",
   "execution_count": 3,
   "id": "0c98bd7a-da0f-4ca6-9440-ac836873dc78",
   "metadata": {},
   "outputs": [
    {
     "name": "stdout",
     "output_type": "stream",
     "text": [
      "Number of rows removed due to 'N' size: 65\n",
      "Number of duplicate rows removed: 25\n"
     ]
    }
   ],
   "source": [
    "import pandas as pd\n",
    "\n",
    "def remove_rows_with_N_size(input_file, output_file):\n",
    "    \"\"\"\n",
    "    Removes rows from the CSV where 'Size' is equal to 'N' and prints how many rows were removed.\n",
    "\n",
    "    Parameters:\n",
    "    - input_file (str): The file path for the input CSV file.\n",
    "    - output_file (str): The file path for the output cleaned CSV file.\n",
    "\n",
    "    Returns:\n",
    "    - df (pd.DataFrame): The DataFrame with rows removed where 'Size' is 'N'.\n",
    "    \"\"\"\n",
    "    # Load the CSV\n",
    "    df = pd.read_csv(input_file)\n",
    "\n",
    "    # Keep track of the initial number of rows\n",
    "    initial_row_count = df.shape[0]\n",
    "\n",
    "    # Remove rows where 'Size' is 'N'\n",
    "    df = df[df['Size'] != 'N']\n",
    "\n",
    "    # Calculate how many rows were removed\n",
    "    rows_removed = initial_row_count - df.shape[0]\n",
    "\n",
    "    # Print how many rows were removed\n",
    "    print(f\"Number of rows removed due to 'N' size: {rows_removed}\")\n",
    "\n",
    "    return df\n",
    "\n",
    "def remove_duplicate_rows(df):\n",
    "    \"\"\"\n",
    "    Removes duplicate rows from the DataFrame based on identical values in columns \n",
    "    except for 'Listing ID', 'Date Posted', 'Title', and 'URL'. \n",
    "    Reports the number of rows removed.\n",
    "\n",
    "    Parameters:\n",
    "    - df (pd.DataFrame): The input DataFrame from which to remove duplicates.\n",
    "\n",
    "    Returns:\n",
    "    - df (pd.DataFrame): The cleaned DataFrame with duplicates removed.\n",
    "    - rows_removed (int): The number of rows removed.\n",
    "    \"\"\"\n",
    "    # Keep a copy of the original number of rows for comparison\n",
    "    original_row_count = df.shape[0]\n",
    "\n",
    "    # List of columns to check for duplicates, excluding 'Listing ID', 'Date Posted', 'Title', and 'URL'\n",
    "    columns_to_check = df.columns.difference(['Listing ID', 'Date Posted', 'Title', 'URL'])\n",
    "\n",
    "    # Drop duplicates based on the specified columns\n",
    "    df = df.drop_duplicates(subset=columns_to_check)\n",
    "\n",
    "    # Calculate how many rows were removed\n",
    "    rows_removed = original_row_count - df.shape[0]\n",
    "\n",
    "    return df, rows_removed\n",
    "\n",
    "# Example usage:\n",
    "input_file = r'C:\\Users\\17809\\Projects\\data\\scraped_data_2024-10-22.csv'\n",
    "output_file = r'C:\\Users\\17809\\Projects\\data\\cleaned_scraped_data_2024-10-22.csv'\n",
    "\n",
    "# Step 1: Remove rows where 'Size' is 'N'\n",
    "cleaned_df = remove_rows_with_N_size(input_file, output_file)\n",
    "\n",
    "# Step 2: Remove duplicate rows\n",
    "deduped_df, rows_removed = remove_duplicate_rows(cleaned_df)\n",
    "\n",
    "# Save the cleaned and deduplicated data to a new CSV\n",
    "deduped_df.to_csv(output_file, index=False)\n",
    "\n",
    "# Output the number of rows removed during deduplication\n",
    "print(f\"Number of duplicate rows removed: {rows_removed}\")"
   ]
  },
  {
   "cell_type": "code",
   "execution_count": null,
   "id": "27153a78-d709-4999-a8c6-a6e89552590e",
   "metadata": {},
   "outputs": [],
   "source": []
  },
  {
   "cell_type": "code",
   "execution_count": null,
   "id": "feac008d-b5d8-418e-9cf0-4acfc8bacd81",
   "metadata": {},
   "outputs": [],
   "source": []
  }
 ],
 "metadata": {
  "kernelspec": {
   "display_name": ".venv",
   "language": "python",
   "name": "python3"
  },
  "language_info": {
   "codemirror_mode": {
    "name": "ipython",
    "version": 3
   },
   "file_extension": ".py",
   "mimetype": "text/x-python",
   "name": "python",
   "nbconvert_exporter": "python",
   "pygments_lexer": "ipython3",
   "version": "3.12.6"
  }
 },
 "nbformat": 4,
 "nbformat_minor": 5
}
