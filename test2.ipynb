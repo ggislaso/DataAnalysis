{
 "cells": [
  {
   "cell_type": "code",
   "execution_count": 1,
   "id": "0c98bd7a-da0f-4ca6-9440-ac836873dc78",
   "metadata": {},
   "outputs": [
    {
     "name": "stdout",
     "output_type": "stream",
     "text": [
      "   Listing ID   Location  Size  Bedrooms Bathrooms  Price  Cats OK  Dogs OK  \\\n",
      "1  7794207898  Coquitlam   900         2         1   2300        0        0   \n",
      "2  7794177124    Burnaby  1150         3       2.5   3800        0        0   \n",
      "4  7795159160  Vancouver   775         1         1   3000        1        0   \n",
      "5  7793757637   Richmond  3500         5       4.5   5900        1        1   \n",
      "6  7795158998     Surrey  1000         2         1   1800        0        0   \n",
      "\n",
      "   Washer/Dryer  Parking Available  Basement Suite Date Posted  \\\n",
      "1             1                  1               1  2024-10-17   \n",
      "2             1                  1               0  2024-10-17   \n",
      "4             1                  1               0  2024-10-20   \n",
      "5             1                  1               0  2024-10-15   \n",
      "6             1                  1               1  2024-10-20   \n",
      "\n",
      "                                                 URL  \n",
      "1  https://vancouver.craigslist.org/pml/apa/d/coq...  \n",
      "2  https://vancouver.craigslist.org/bnc/apa/d/bur...  \n",
      "4  https://vancouver.craigslist.org/van/apa/d/van...  \n",
      "5  https://vancouver.craigslist.org/rch/apa/d/ric...  \n",
      "6  https://vancouver.craigslist.org/rds/apa/d/sur...  \n"
     ]
    }
   ],
   "source": [
    "import pandas as pd\n",
    "\n",
    "def remove_rows_with_N_size(input_file, output_file):\n",
    "    \"\"\"\n",
    "    Removes rows from the CSV where 'Size' is equal to 'N'.\n",
    "\n",
    "    Parameters:\n",
    "    - input_file (str): The file path for the input CSV file.\n",
    "    - output_file (str): The file path for the output cleaned CSV file.\n",
    "\n",
    "    Returns:\n",
    "    - df (pd.DataFrame): The DataFrame with rows removed where 'Size' is 'N'.\n",
    "    \"\"\"\n",
    "    # Load the CSV\n",
    "    df = pd.read_csv(input_file)\n",
    "\n",
    "    # Remove rows where 'Size' is 'N'\n",
    "    df = df[df['Size'] != 'N']\n",
    "\n",
    "    # Save the cleaned data to a new CSV\n",
    "    df.to_csv(output_file, index=False)\n",
    "\n",
    "    return df\n",
    "\n",
    "# Example usage:\n",
    "input_file = r'C:\\Users\\17809\\Projects\\data\\scraped_data.csv'\n",
    "output_file = r'C:\\Users\\17809\\Projects\\data\\cleaned_scraped_data.csv'\n",
    "cleaned_df = remove_rows_with_N_size(input_file, output_file)\n",
    "print(cleaned_df.head())"
   ]
  },
  {
   "cell_type": "code",
   "execution_count": null,
   "id": "27153a78-d709-4999-a8c6-a6e89552590e",
   "metadata": {},
   "outputs": [],
   "source": []
  },
  {
   "cell_type": "code",
   "execution_count": null,
   "id": "feac008d-b5d8-418e-9cf0-4acfc8bacd81",
   "metadata": {},
   "outputs": [],
   "source": []
  }
 ],
 "metadata": {
  "kernelspec": {
   "display_name": ".venv",
   "language": "python",
   "name": "python3"
  },
  "language_info": {
   "codemirror_mode": {
    "name": "ipython",
    "version": 3
   },
   "file_extension": ".py",
   "mimetype": "text/x-python",
   "name": "python",
   "nbconvert_exporter": "python",
   "pygments_lexer": "ipython3",
   "version": "3.12.6"
  }
 },
 "nbformat": 4,
 "nbformat_minor": 5
}
