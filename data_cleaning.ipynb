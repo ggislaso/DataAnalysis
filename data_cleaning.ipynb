{
 "cells": [
  {
   "cell_type": "code",
   "execution_count": 4,
   "metadata": {},
   "outputs": [
    {
     "name": "stdout",
     "output_type": "stream",
     "text": [
      "['__builtins__', '__cached__', '__doc__', '__file__', '__loader__', '__name__', '__package__', '__spec__', 'pd', 'remove_rows_with_N_size']\n",
      "['__builtins__', '__cached__', '__doc__', '__file__', '__loader__', '__name__', '__package__', '__spec__', 'pd', 'remove_duplicate_rows']\n",
      "['__builtins__', '__cached__', '__doc__', '__file__', '__loader__', '__name__', '__package__', '__spec__', 'pd', 'sort_rows_by_location_and_price']\n",
      "['__builtins__', '__cached__', '__doc__', '__file__', '__loader__', '__name__', '__package__', '__spec__', 'pd', 'remove_rows_with_not_available_location']\n",
      "['__builtins__', '__cached__', '__doc__', '__file__', '__loader__', '__name__', '__package__', '__spec__', 'pd', 'remove_price_outliers']\n"
     ]
    }
   ],
   "source": [
    "# Importing the necessary functions from utils\n",
    "import importlib\n",
    "\n",
    "import utils.remove_rows_with_N_size as n_size\n",
    "import utils.remove_duplicate_rows as duplicate_rows\n",
    "import utils.sort_rows_by_location_and_price as sort_rows\n",
    "import utils.remove_not_available_location as remove_location\n",
    "import utils.remove_price_outliers as remove_price\n",
    "import utils.remove_rows_with_roommates as remove_roommates\n",
    "\n",
    "importlib.reload(n_size)\n",
    "importlib.reload(duplicate_rows)\n",
    "importlib.reload(sort_rows)\n",
    "importlib.reload(remove_location)\n",
    "importlib.reload(remove_price)\n",
    "\n",
    "\n",
    "print(dir(n_size))\n",
    "print(dir(duplicate_rows))\n",
    "print(dir(sort_rows))\n",
    "print(dir(remove_location))\n",
    "print(dir(remove_price))"
   ]
  },
  {
   "cell_type": "code",
   "execution_count": 5,
   "metadata": {},
   "outputs": [],
   "source": [
    "# Example usage:\n",
    "input_file = r'C:\\Users\\grego\\OneDrive\\Desktop\\Renter_Lens\\raw_data\\scraped_data_2024-10-23.csv'\n",
    "output_file = r'C:\\Users\\grego\\OneDrive\\Desktop\\Renter_Lens\\cleaned_data\\cleaned_scraped_data_2024-10-23.csv'"
   ]
  },
  {
   "cell_type": "code",
   "execution_count": 6,
   "metadata": {},
   "outputs": [
    {
     "name": "stdout",
     "output_type": "stream",
     "text": [
      "Number of rows removed due to 'N' size: 89\n",
      "Number of rows removed where 'Location' was 'Not available': 6\n",
      "Number of rows removed where 'Price' was greater than 10,000: 4\n",
      "Number of 'Roommates' listings removed: 15\n",
      "Number of duplicate rows removed: 44\n"
     ]
    }
   ],
   "source": [
    "# Step 1: Remove rows where 'Size' is 'N'\n",
    "cleaned_df = n_size.remove_rows_with_N_size(input_file)\n",
    "\n",
    "# Step 2: Remove rows where 'Location' is 'Not Available'\n",
    "cleaned_df = remove_location.remove_rows_with_not_available_location(cleaned_df)\n",
    "\n",
    "# Step 3: Remove rows where 'Price' is greater than 10,000\n",
    "cleaned_df = remove_price.remove_price_outliers(cleaned_df)\n",
    "\n",
    "# Step 4: Remove listings with roommates\n",
    "cleaned_df = remove_roommates.remove_rows_with_roommates(cleaned_df)\n",
    "\n",
    "# Step 5: Remove duplicate rows\n",
    "deduped_df, rows_removed = duplicate_rows.remove_duplicate_rows(cleaned_df)\n",
    "\n",
    "# Step 6: Sort rows by location and then descending price\n",
    "sorted_df = sort_rows.sort_rows_by_location_and_price(deduped_df)\n",
    "\n",
    "# Save the cleaned and sorted data to a new CSV\n",
    "sorted_df.to_csv(output_file, index=False)\n",
    "# Output the number of rows removed during deduplication\n",
    "print(f\"Number of duplicate rows removed: {rows_removed}\")"
   ]
  },
  {
   "cell_type": "code",
   "execution_count": null,
   "metadata": {},
   "outputs": [],
   "source": []
  }
 ],
 "metadata": {
  "kernelspec": {
   "display_name": "base",
   "language": "python",
   "name": "python3"
  },
  "language_info": {
   "codemirror_mode": {
    "name": "ipython",
    "version": 3
   },
   "file_extension": ".py",
   "mimetype": "text/x-python",
   "name": "python",
   "nbconvert_exporter": "python",
   "pygments_lexer": "ipython3",
   "version": "3.12.7"
  }
 },
 "nbformat": 4,
 "nbformat_minor": 2
}
